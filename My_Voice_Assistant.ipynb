{
 "cells": [
  {
   "cell_type": "markdown",
   "id": "9a6d12a0-5a5e-4e65-a72a-2f3c1f73c97a",
   "metadata": {},
   "source": [
    "## In this project we will be developing a virtual AI Voice assistant - JARVIS"
   ]
  },
  {
   "cell_type": "markdown",
   "id": "bbc501bb-2e71-45a0-ab50-d5c8c593d34f",
   "metadata": {},
   "source": [
    "### Time Line of the Project:\n",
    "\n",
    "- Importing Libraries\n",
    "- Developing Voice for AI\n",
    "- Developing greeting functions\n",
    "- Developing Command Functions"
   ]
  },
  {
   "cell_type": "markdown",
   "id": "2938f59f-406f-4ebc-a777-cb8f218421d4",
   "metadata": {},
   "source": [
    "### Importing the libraries"
   ]
  },
  {
   "cell_type": "code",
   "execution_count": 1,
   "id": "e592f86c-3e56-4a0a-829c-610f2795a0cd",
   "metadata": {},
   "outputs": [],
   "source": [
    "import pyttsx3 ##This library helps the AI to speek(text to speech)\n",
    "import datetime\n",
    "import speech_recognition as sr ##This library helps us to get input voices(speech to text)\n",
    "import wikipedia ##Surfing the wikipedia\n",
    "import os  ##For any local file\n",
    "import webbrowser ##Surfing the internet"
   ]
  },
  {
   "cell_type": "markdown",
   "id": "8df0de79-c91e-4a2d-a8a8-a4c5a775ca40",
   "metadata": {},
   "source": [
    "**Let's add voice to our AI assistant**"
   ]
  },
  {
   "cell_type": "code",
   "execution_count": 2,
   "id": "96d22e2b-27e4-43cf-820c-f5be1790a182",
   "metadata": {},
   "outputs": [],
   "source": [
    "engine = pyttsx3.init('sapi5')\n",
    "voices = engine.getProperty('voices')\n",
    "engine.setProperty('voice', voices[0].id)"
   ]
  },
  {
   "cell_type": "code",
   "execution_count": 3,
   "id": "d597406f-76ae-42c2-ae1f-55f7e8219a4f",
   "metadata": {},
   "outputs": [
    {
     "name": "stdout",
     "output_type": "stream",
     "text": [
      "HKEY_LOCAL_MACHINE\\SOFTWARE\\Microsoft\\Speech\\Voices\\Tokens\\TTS_MS_EN-US_ZIRA_11.0\n"
     ]
    }
   ],
   "source": [
    "print(voices[1].id)"
   ]
  },
  {
   "cell_type": "markdown",
   "id": "df3b6771-51ed-4e8c-a31e-352b54e3361a",
   "metadata": {},
   "source": [
    "**Developing the greeting function**"
   ]
  },
  {
   "cell_type": "code",
   "execution_count": 4,
   "id": "ebb6c6e6-f0ef-47d1-9c5a-f19643d63aba",
   "metadata": {},
   "outputs": [],
   "source": [
    "def speak(audio):\n",
    "    engine.say(audio)\n",
    "    engine.runAndWait()\n",
    "\n",
    "def greet():\n",
    "    hour = int(datetime.datetime.now().hour)\n",
    "    if hour>=0 and hour<12:\n",
    "        speak(\"It is a fine morning sir !\")\n",
    "\n",
    "    elif hour>=12 and hour<18:\n",
    "        speak(\"Hope you had your brunch, Good Afternoon Sir !\")   \n",
    "\n",
    "    else:\n",
    "        speak(\"The wind is lovely, Good Evening sir !\")  \n",
    "\n",
    "    speak(\"How are you? I am your personal AI Assistant JARVIS!  How may I be of service to you today?\")"
   ]
  },
  {
   "cell_type": "code",
   "execution_count": 5,
   "id": "526adc46-e55a-4515-b735-e59d767dcba6",
   "metadata": {},
   "outputs": [],
   "source": [
    "greet()"
   ]
  },
  {
   "cell_type": "markdown",
   "id": "373520a7-85a9-4a1b-b8e5-9f9f4ec010df",
   "metadata": {},
   "source": [
    "**Command Function**"
   ]
  },
  {
   "cell_type": "code",
   "execution_count": 6,
   "id": "9b05f0ea-1112-4afc-9dc0-8de4529ad530",
   "metadata": {},
   "outputs": [],
   "source": [
    "def command():\n",
    "    \n",
    "\n",
    "    r = sr.Recognizer()\n",
    "    with sr.Microphone() as source:\n",
    "        print(\"Listening...\")\n",
    "        r.pause_threshold = 1.2\n",
    "        audio = r.listen(source)\n",
    "\n",
    "    try:\n",
    "        print(\"Recognizing...\")    \n",
    "        query = r.recognize_google(audio, language='en-in')  ##speech to text\n",
    "        print(f\"You said: {query}\\n\")\n",
    "\n",
    "    except Exception as e:\n",
    "          \n",
    "        print(\"I could not get you, please speak again\")  \n",
    "        return \"None\"\n",
    "    return query"
   ]
  },
  {
   "cell_type": "markdown",
   "id": "2a6ac3ba-949c-48ba-a37d-07e874d3c648",
   "metadata": {},
   "source": [
    "**Assigning different tasks to JARVIS**"
   ]
  },
  {
   "cell_type": "code",
   "execution_count": 8,
   "id": "85df80a6-fafe-4e8e-860e-94d13e3f9768",
   "metadata": {},
   "outputs": [
    {
     "name": "stdout",
     "output_type": "stream",
     "text": [
      "Listening...\n",
      "Recognizing...\n",
      "You said: Jarvis open chat GPT\n",
      "\n"
     ]
    }
   ],
   "source": [
    "if __name__ == \"__main__\":\n",
    "    greet()\n",
    "    #while True:\n",
    "    if 1:\n",
    "        query = command().lower()\n",
    "\n",
    "        #Logic for executing tasks based on query\n",
    "        if 'wikipedia' in query:\n",
    "            speak('Searching Wikipedia...')\n",
    "            query = query.replace(\"wikipedia\",\"\")\n",
    "            results = wikipedia.summary(f'{query}', sentences=2)\n",
    "            speak(\"According to Wikipedia\")\n",
    "            print(results)\n",
    "            speak(results)\n",
    "        elif 'jarvis open instagram' in query:\n",
    "            webbrowser.open(\"instagram.com\")\n",
    "        elif 'jarvis open youtube' in query:\n",
    "            webbrowser.open(\"youtube.com\")\n",
    "        elif 'jarvis open google' in query:\n",
    "            webbrowser.open(\"google.com\") \n",
    "        elif 'jarvis open github' in query:\n",
    "            webbrowser.open(\"github.com\")\n",
    "        elif 'jarvis how is the weather' in query:\n",
    "            webbrowser.open(\"weather.com\")\n",
    "        elif 'jarvis open kaggle' in query:\n",
    "            webbrowser.open(\"kaggle.com\")\n",
    "        elif 'jarvis open chat gpt' in query:\n",
    "            webbrowser.open(\"chat.openai.com\")  \n",
    "        elif 'jarvis open whatsapp' in query:\n",
    "            webbrowser.open(\"web.whatsapp.com\")\n",
    "        elif 'jarvis open linkedin' in query:\n",
    "            webbrowser.open(\"linkedin.com\")    \n",
    "\n",
    "        elif 'jarvis play a music' in query:\n",
    "            music_dir = 'D:\\\\My_Study\\\\7. Data Science\\\\DS_Projects\\\\Project 11(Voice Assistant)\\\\Code and Files\\\\husn'\n",
    "            songs = os.listdir(music_dir)\n",
    "            print(songs)\n",
    "            os.startfile(os.path.join(music_dir, songs[0]))\n",
    "        elif 'jarvis what is the time' in query:\n",
    "            strTime = datetime.datetime.now().strftime(\"%H:%M:%S\")    \n",
    "            speak(f\"Sir, the time is {strTime}\")  "
   ]
  },
  {
   "cell_type": "code",
   "execution_count": null,
   "id": "09fec8fe-b831-4b28-9bea-13e4a5874d9d",
   "metadata": {},
   "outputs": [],
   "source": []
  }
 ],
 "metadata": {
  "kernelspec": {
   "display_name": "Python 3 (ipykernel)",
   "language": "python",
   "name": "python3"
  },
  "language_info": {
   "codemirror_mode": {
    "name": "ipython",
    "version": 3
   },
   "file_extension": ".py",
   "mimetype": "text/x-python",
   "name": "python",
   "nbconvert_exporter": "python",
   "pygments_lexer": "ipython3",
   "version": "3.11.7"
  }
 },
 "nbformat": 4,
 "nbformat_minor": 5
}
